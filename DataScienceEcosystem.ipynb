{
 "cells": [
  {
   "cell_type": "markdown",
   "metadata": {},
   "source": [
    "# Data Science Tools and Ecosystem"
   ]
  },
  {
   "cell_type": "markdown",
   "metadata": {},
   "source": [
    "In this notebook, Data Science Tools and Ecosystem are summarized."
   ]
  },
  {
   "cell_type": "markdown",
   "metadata": {},
   "source": [
    "**Objectives:**\n",
    "\n",
    "- List popular programming languages used in Data Science.\n",
    "- Introduce commonly used libraries in Data Science.\n",
    "- Present open-source development environment tools for Data Science.\n",
    "- Demonstrate how to evaluate arithmetic expressions in Python.\n",
    "- Illustrate the conversion of minutes to hours using Python.\n"
   ]
  },
  {
   "cell_type": "markdown",
   "metadata": {},
   "source": [
    "## Some of the popular languages that Data Scientists use are:\n",
    "\n",
    "1. **Python**: Python is one of the most widely used programming languages in data science. Its extensive libraries like NumPy, pandas, Matplotlib, and scikit-learn make it a versatile choice for data manipulation, analysis, visualization, and machine learning.\n",
    "\n",
    "2. **R**: R is specifically designed for statistical analysis and data visualization. It provides a rich ecosystem of packages such as ggplot2 and dplyr that cater to various aspects of data science, making it a preferred language for statisticians and researchers.\n",
    "\n",
    "3. **SQL**: SQL (Structured Query Language) is essential for working with relational databases. Data Scientists use SQL to retrieve, manipulate, and aggregate data stored in databases. Proficiency in SQL is crucial for managing and preprocessing large datasets.\n",
    "\n",
    "4. **Julia**: Julia is a high-performance language designed for numerical and scientific computing. It's gaining popularity in data science due to its speed and ease of integration with existing code and libraries, making it suitable for computationally intensive tasks.\n",
    "\n",
    "These languages provide diverse options for Data Scientists to tackle different aspects of their work, from data preprocessing and exploration to building machine learning models and creating visualizations.\n"
   ]
  },
  {
   "cell_type": "markdown",
   "metadata": {},
   "source": [
    "## Some of the commonly used libraries used by Data Scientists include:\n",
    "\n",
    "1. **NumPy**: NumPy is a fundamental library for numerical computing in Python. It provides support for large, multi-dimensional arrays and matrices, along with a wide range of mathematical functions to operate on these arrays efficiently.\n",
    "\n",
    "2. **pandas**: pandas is a powerful library for data manipulation and analysis. It offers data structures like DataFrames and Series that make it easy to clean, transform, and explore datasets.\n",
    "\n",
    "3. **Matplotlib**: Matplotlib is a popular plotting library that allows Data Scientists to create a wide variety of static, interactive, and publication-quality visualizations.\n",
    "\n",
    "4. **scikit-learn**: scikit-learn is a machine learning library that provides simple and efficient tools for data mining and data analysis. It includes a wide range of algorithms for classification, regression, clustering, and more.\n",
    "\n",
    "These libraries provide essential tools and functions for various stages of data science projects, from data manipulation and analysis to machine learning model development and evaluation.\n"
   ]
  },
  {
   "cell_type": "markdown",
   "metadata": {},
   "source": [
    "| Data Science Tools     |\n",
    "|------------------------|\n",
    "| Jupyter Notebook       |\n",
    "| RStudio                |\n",
    "| Visual Studio Code     |\n"
   ]
  },
  {
   "cell_type": "markdown",
   "metadata": {},
   "source": [
    "### Below are a few examples of how to evaluate arithmetic expressions using Python:\n"
   ]
  },
  {
   "cell_type": "code",
   "execution_count": 2,
   "metadata": {},
   "outputs": [
    {
     "name": "stdout",
     "output_type": "stream",
     "text": [
      "17\n"
     ]
    }
   ],
   "source": [
    "# This is a simple arithmetic expression to multiply then add integers.\n",
    "result = (3*4) + 5\n",
    "print(result)\n"
   ]
  },
  {
   "cell_type": "code",
   "execution_count": 3,
   "metadata": {},
   "outputs": [
    {
     "name": "stdout",
     "output_type": "stream",
     "text": [
      "3.3333333333333335\n"
     ]
    }
   ],
   "source": [
    "# This will convert 200 minutes to hours by dividing by 60.\n",
    "minutes = 200\n",
    "hours = minutes / 60\n",
    "print(hours)\n"
   ]
  },
  {
   "cell_type": "markdown",
   "metadata": {},
   "source": [
    "## Author\n",
    "Mukund Mane\n"
   ]
  },
  {
   "cell_type": "code",
   "execution_count": null,
   "metadata": {},
   "outputs": [],
   "source": []
  }
 ],
 "metadata": {
  "kernelspec": {
   "display_name": "Python 3",
   "language": "python",
   "name": "python3"
  },
  "language_info": {
   "codemirror_mode": {
    "name": "ipython",
    "version": 3
   },
   "file_extension": ".py",
   "mimetype": "text/x-python",
   "name": "python",
   "nbconvert_exporter": "python",
   "pygments_lexer": "ipython3",
   "version": "3.8.5"
  }
 },
 "nbformat": 4,
 "nbformat_minor": 4
}
